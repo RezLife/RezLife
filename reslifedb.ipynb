{
 "cells": [
  {
   "cell_type": "code",
   "execution_count": null,
   "metadata": {},
   "outputs": [],
   "source": [
    "# Setup fake data generator\n",
    "from faker import Faker\n",
    "fake = Faker()"
   ]
  },
  {
   "cell_type": "code",
   "execution_count": null,
   "metadata": {},
   "outputs": [],
   "source": [
    "# setup db connection\n",
    "import mysql.connector\n",
    "\n",
    "cnx = cnx = mysql.connector.connect(user='reslifeadmin',password='eoekK8bRe4wa',\n",
    "                                    host='csdb.wheaton.edu',\n",
    "                                    database='reslife')\n",
    "cursor = cnx.cursor()"
   ]
  },
  {
   "cell_type": "code",
   "execution_count": null,
   "metadata": {},
   "outputs": [],
   "source": [
    "# get current db data\n",
    "cursor.execute('SELECT * FROM t_students ORDER BY studentId')\n",
    "students = cursor.fetchall()"
   ]
  },
  {
   "cell_type": "code",
   "execution_count": null,
   "metadata": {},
   "outputs": [],
   "source": [
    "# function to get a new student id that doesn't already exist in the db table\n",
    "def get_stuid():\n",
    "    while True:\n",
    "        stuid = fake.random_number(digits=5,fix_len=True)\n",
    "        cursor.execute('SELECT * FROM t_students WHERE studentId=%(stuid)s', {'stuid': stuid})\n",
    "        if not cursor.fetchall():\n",
    "            return stuid"
   ]
  },
  {
   "cell_type": "code",
   "execution_count": null,
   "metadata": {},
   "outputs": [],
   "source": [
    "# iterate over current db rows, updating them with fake data\n",
    "for stu in students:\n",
    "    # setup fake data to be used in db update\n",
    "\n",
    "    # names and email\n",
    "    fn = fake.first_name()\n",
    "    preferred_fn = ''\n",
    "    if stu[3] and stu[3] != '':\n",
    "        preferred_fn = fake.first_name()\n",
    "    ln = fake.last_name()\n",
    "    email = (fn.lower() if preferred_fn == '' else preferred_fn.lower()) + '.' + ln.lower() + '@my.wheaton.edu'\n",
    "\n",
    "    # birthdate\n",
    "    # considering that grad students live in college housing, we'll assume\n",
    "    # that college students are >= 18 and <= 100 years old\n",
    "    # never stop learning, right?! :)\n",
    "    dob = fake.date_of_birth(minimum_age=18, maximum_age=70)\n",
    "\n",
    "    # address\n",
    "    city = fake.city()\n",
    "    st = fake.state_abbr()\n",
    "\n",
    "    # id number\n",
    "    # new id must not already be in the table\n",
    "    oldid = stu[10]\n",
    "    stuid = get_stuid()\n",
    "    \n",
    "    # sql update\n",
    "    update = 'UPDATE t_students SET name_last=%(ln)s, name_first=%(fn)s, date_of_birth=%(dob)s, email=%(email)s, ' \\\n",
    "            'city=%(city)s, state_province=%(st)s, studentID=%(stuid)s, name_preferred=%(preferred_fn)s ' \\\n",
    "            'WHERE studentID=%(oldid)s'\n",
    "    params = { 'ln': ln, 'fn': fn, 'dob': dob, 'city': city, 'st': st, 'stuid': stuid, 'oldid': oldid, \n",
    "              'preferred_fn': preferred_fn, 'email': email}\n",
    "\n",
    "    cursor.execute(update, params)\n",
    "    print cursor.statement\n",
    "    \n",
    "    cnx.commit()"
   ]
  },
  {
   "cell_type": "code",
   "execution_count": null,
   "metadata": {},
   "outputs": [],
   "source": [
    "# cleanup\n",
    "cursor.close()\n",
    "cnx.close()"
   ]
  },
  {
   "cell_type": "code",
   "execution_count": null,
   "metadata": {},
   "outputs": [],
   "source": []
  }
 ],
 "metadata": {
  "kernelspec": {
   "display_name": "Python 2",
   "language": "python",
   "name": "python2"
  },
  "language_info": {
   "codemirror_mode": {
    "name": "ipython",
    "version": 2
   },
   "file_extension": ".py",
   "mimetype": "text/x-python",
   "name": "python",
   "nbconvert_exporter": "python",
   "pygments_lexer": "ipython2",
   "version": "2.7.15"
  }
 },
 "nbformat": 4,
 "nbformat_minor": 2
}
